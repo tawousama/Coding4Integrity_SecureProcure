{
 "cells": [
  {
   "cell_type": "code",
   "execution_count": 1,
   "metadata": {},
   "outputs": [],
   "source": [
    "import joblib\n",
    "import numpy as np\n",
    "import pandas as pd"
   ]
  },
  {
   "cell_type": "markdown",
   "metadata": {},
   "source": [
    "# AI model use case\n",
    "In this notebook we will explain how the evaluation part works by giving an example (use case)\n",
    "This example is about an RFP where the governement is looking to get laptop for its employees, our model will evaluate the offer and and give a score based on the price, quality and quantity and give a feedback of why it's\n"
   ]
  },
  {
   "cell_type": "code",
   "execution_count": 2,
   "metadata": {},
   "outputs": [],
   "source": [
    "loaded_model_price = joblib.load('models/model_price.pkl')\n",
    "loaded_model_quality = joblib.load('models/model_quality.pkl')\n",
    "loaded_model_quantity = joblib.load('models/model_quantity.pkl')\n",
    "loaded_model_fraude_score = joblib.load('models/model_fraude_score.pkl')\n",
    "loaded_model_ai_scoring = joblib.load('models/model_ai_scoring.pkl')"
   ]
  },
  {
   "cell_type": "code",
   "execution_count": 3,
   "metadata": {},
   "outputs": [],
   "source": [
    "def Evaluation(price_prediction,quality_prediction,quantity_prediction,fraude_score_prediction,ai_scoring_prediction):\n",
    "    if fraude_score_prediction == 1:\n",
    "        print(\"fraud detected\")\n",
    "    if price_prediction == 0:\n",
    "        print(\"price Acceptable\")\n",
    "    elif price_prediction == 1:\n",
    "        print(\"price a little expensive\")\n",
    "    elif price_prediction == 2:\n",
    "        print(\"price more afforable\")\n",
    "    elif price_prediction == 3:\n",
    "        print(\"price too expensive\")\n",
    "    else: print(\"price very afordable\")\n",
    "    \n",
    "    if quality_prediction == 0:\n",
    "        print(\"Quality Acceptable\")\n",
    "    elif quality_prediction == 1:\n",
    "        print(\"Good quality\")\n",
    "    elif quality_prediction == 2:\n",
    "        print(\"Bad quality\")\n",
    "    elif quality_prediction == 3:\n",
    "        print(\"Quality is excellente\")\n",
    "\n",
    "    if quantity_prediction == 0:\n",
    "        print(\"Decent quantity\")\n",
    "    elif quantity_prediction == 1:\n",
    "        print(\"Low quantity\")\n",
    "    else: print(\"Very low quantity\")\n",
    "    \n",
    "    print(\"thescore is\",round(float(ai_scoring_prediction)*10,2))\n",
    "\n",
    "    "
   ]
  },
  {
   "cell_type": "code",
   "execution_count": 5,
   "metadata": {},
   "outputs": [
    {
     "name": "stdout",
     "output_type": "stream",
     "text": [
      "price too expensive\n",
      "Quality is excellente\n",
      "Decent quantity\n",
      "thescore is 3.5\n"
     ]
    }
   ],
   "source": [
    "data_1 = pd.DataFrame({\n",
    "    \"Product_quality\": [100],\n",
    "    \"Product_quantity\": [100],\n",
    "    \"Product_price\": [2500],\n",
    "    \"Desired_quality\": [60],\n",
    "    \"Baseline_product_price\": [1500]\n",
    "})\n",
    "price_predictions = loaded_model_price.predict(data_1)\n",
    "quality_predictions = loaded_model_quality.predict(data_1)\n",
    "quantity_predictions = loaded_model_quantity.predict(data_1)\n",
    "fraude_score_predictions = loaded_model_fraude_score.predict(data_1)\n",
    "ai_scoring_predictions = loaded_model_ai_scoring.predict(data_1)\n",
    "Evaluation(price_predictions,quality_predictions,quantity_predictions,fraude_score_predictions,ai_scoring_predictions)"
   ]
  }
 ],
 "metadata": {
  "kernelspec": {
   "display_name": "Python 3",
   "language": "python",
   "name": "python3"
  },
  "language_info": {
   "codemirror_mode": {
    "name": "ipython",
    "version": 3
   },
   "file_extension": ".py",
   "mimetype": "text/x-python",
   "name": "python",
   "nbconvert_exporter": "python",
   "pygments_lexer": "ipython3",
   "version": "3.11.1"
  },
  "orig_nbformat": 4
 },
 "nbformat": 4,
 "nbformat_minor": 2
}
