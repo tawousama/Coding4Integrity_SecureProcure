{
 "cells": [
  {
   "cell_type": "code",
   "execution_count": null,
   "metadata": {},
   "outputs": [],
   "source": [
    "import joblib\n",
    "import numpy as np\n",
    "import pandas as pd"
   ]
  },
  {
   "cell_type": "code",
   "execution_count": 153,
   "metadata": {},
   "outputs": [
    {
     "name": "stdout",
     "output_type": "stream",
     "text": [
      "    Product_quality  Product_quantity  Product_price  Desired_quality  \\\n",
      "0         68.727006                98     649.273994               60   \n",
      "1         97.535715               100    1944.739079               60   \n",
      "2         86.599697                62    1791.283041               60   \n",
      "3         79.932924                79    2161.615221               60   \n",
      "4         57.800932               100    2456.552698               60   \n",
      "5         57.799726                17    1447.592676               60   \n",
      "6         52.904181                70    2010.702748               60   \n",
      "7         93.308807                22    2177.872162               60   \n",
      "8         80.055751                23    1748.292965               60   \n",
      "9         85.403629               100     825.368293               60   \n",
      "10        51.029225                46     760.599454               60   \n",
      "11        98.495493                49    1930.217659               60   \n",
      "12        91.622132               100    2454.074957               60   \n",
      "13        60.616956               100    1073.474467               60   \n",
      "14        59.091248               100    2275.977816               60   \n",
      "15        59.170225               100    2496.023500               60   \n",
      "16        65.212112               100    1085.425817               60   \n",
      "17        76.237822               100     795.799035               60   \n",
      "18        71.597251               100    1170.227024               60   \n",
      "19        64.561457               100    1529.013680               60   \n",
      "\n",
      "    Baseline_product_price  Price_comparison  Quality_comparison  \\\n",
      "0                     1500    very_low_price        high_quality   \n",
      "1                     1500        high_price   very_high_quality   \n",
      "2                     1500        high_price        high_quality   \n",
      "3                     1500        high_price        high_quality   \n",
      "4                     1500   very_high_price  acceptable_quality   \n",
      "5                     1500  acceptable_price  acceptable_quality   \n",
      "6                     1500        high_price         low_quality   \n",
      "7                     1500        high_price   very_high_quality   \n",
      "8                     1500        high_price        high_quality   \n",
      "9                     1500         low_price        high_quality   \n",
      "10                    1500         low_price         low_quality   \n",
      "11                    1500        high_price   very_high_quality   \n",
      "12                    1500   very_high_price   very_high_quality   \n",
      "13                    1500         low_price  acceptable_quality   \n",
      "14                    1500   very_high_price  acceptable_quality   \n",
      "15                    1500   very_high_price  acceptable_quality   \n",
      "16                    1500         low_price  acceptable_quality   \n",
      "17                    1500         low_price        high_quality   \n",
      "18                    1500         low_price        high_quality   \n",
      "19                    1500  acceptable_price  acceptable_quality   \n",
      "\n",
      "    Quantity_comparison  Normalized_quality  Normalized_price  \\\n",
      "0   acceptable_quantity            0.374540          0.925372   \n",
      "1   acceptable_quantity            0.950722          0.277622   \n",
      "2          low_quantity            0.731998          0.354352   \n",
      "3          low_quantity            0.598661          0.169181   \n",
      "4   acceptable_quantity            0.156015          0.021708   \n",
      "5     very low_quantity            0.155991          0.526202   \n",
      "6          low_quantity            0.058079          0.244639   \n",
      "7     very low_quantity            0.866182          0.161052   \n",
      "8     very low_quantity            0.601118          0.375848   \n",
      "9   acceptable_quantity            0.708077          0.837322   \n",
      "10    very low_quantity            0.020579          0.869708   \n",
      "11    very low_quantity            0.969917          0.284883   \n",
      "12  acceptable_quantity            0.832448          0.022947   \n",
      "13  acceptable_quantity            0.212336          0.713266   \n",
      "14  acceptable_quantity            0.181822          0.111998   \n",
      "15  acceptable_quantity            0.183401          0.001972   \n",
      "16  acceptable_quantity            0.304241          0.707290   \n",
      "17  acceptable_quantity            0.524758          0.852107   \n",
      "18  acceptable_quantity            0.431945          0.664888   \n",
      "19  acceptable_quantity            0.291228          0.485490   \n",
      "\n",
      "    Normalized_quantity     score       fraud_score  AI_scoring  \n",
      "0              0.979798  0.721367  high_fraud_score    0.360683  \n",
      "1              1.000000  0.763575  high_fraud_score    0.381788  \n",
      "2              0.616162  0.583953   low_fraud_score    0.583953  \n",
      "3              0.787879  0.526582   low_fraud_score    0.526582  \n",
      "4              1.000000  0.368919   low_fraud_score    0.368919  \n",
      "5              0.161616  0.268742   low_fraud_score    0.268742  \n",
      "6              0.696970  0.305714   low_fraud_score    0.305714  \n",
      "7              0.212121  0.458425   low_fraud_score    0.458425  \n",
      "8              0.222222  0.419868   low_fraud_score    0.419868  \n",
      "9              1.000000  0.834427  high_fraud_score    0.417214  \n",
      "10             0.454545  0.405508   low_fraud_score    0.405508  \n",
      "11             0.484848  0.618886  high_fraud_score    0.309443  \n",
      "12             1.000000  0.639864  high_fraud_score    0.319932  \n",
      "13             1.000000  0.598914   low_fraud_score    0.598914  \n",
      "14             1.000000  0.406328   low_fraud_score    0.406328  \n",
      "15             1.000000  0.373952   low_fraud_score    0.373952  \n",
      "16             1.000000  0.633883  high_fraud_score    0.316942  \n",
      "17             1.000000  0.765535  high_fraud_score    0.382768  \n",
      "18             1.000000  0.672245  high_fraud_score    0.336122  \n",
      "19             1.000000  0.562138   low_fraud_score    0.562138  \n"
     ]
    }
   ],
   "source": [
    "# Generate synthetic data\n",
    "np.random.seed(42)\n",
    "\n",
    "# Number of data points\n",
    "n_samples = 100000\n",
    "\n",
    "# Generate random product_quality, product_quantity, product_price, desired_quality, and baseline_product_price\n",
    "product_quality = np.random.uniform(50, 100, n_samples)\n",
    "product_quantity_beta = np.random.randint(1, 250, n_samples)\n",
    "product_quantity = np.array([min(i, 100) for i in product_quantity_beta])\n",
    "product_price = np.random.uniform(500, 2500, n_samples)\n",
    "desired_quality = np.full(n_samples, 60)\n",
    "baseline_product_price = np.full(n_samples, 1500)\n",
    "\n",
    "# Create a DataFrame\n",
    "data = pd.DataFrame({\n",
    "    \"Product_quality\": product_quality,\n",
    "    \"Product_quantity\": product_quantity,\n",
    "    \"Product_price\": product_price,\n",
    "    \"Desired_quality\": desired_quality,\n",
    "    \"Baseline_product_price\": baseline_product_price\n",
    "})\n",
    "\n",
    "# Define a function to classify prices\n",
    "def classify_price(row):\n",
    "    price_diff_percent = ((row[\"Product_price\"] - row[\"Baseline_product_price\"]) / row[\"Baseline_product_price\"]) * 100\n",
    "    if abs(price_diff_percent) <= 10:\n",
    "        return \"acceptable_price\"\n",
    "    elif price_diff_percent < -50:\n",
    "        return \"very_low_price\"\n",
    "    elif price_diff_percent > 50:\n",
    "        return \"very_high_price\"\n",
    "    elif price_diff_percent > 10:\n",
    "        return \"high_price\"\n",
    "    else:\n",
    "        return \"low_price\"\n",
    "\n",
    "# Define a function to classify quality\n",
    "def classify_quality(row):\n",
    "    quality_diff_percent = ((row[\"Product_quality\"] - row[\"Desired_quality\"]) / row[\"Desired_quality\"]) * 100\n",
    "    if abs(quality_diff_percent) <= 10:\n",
    "        return \"acceptable_quality\"\n",
    "    elif quality_diff_percent < -10:\n",
    "        return \"low_quality\"\n",
    "    elif quality_diff_percent > 50:\n",
    "        return \"very_high_quality\"\n",
    "    elif quality_diff_percent > 10:\n",
    "        return \"high_quality\"\n",
    "    else:\n",
    "        return \"very_low_quality\"\n",
    "\n",
    "# Define a function to classify quantity\n",
    "def classify_quantity(row):\n",
    "    if row[\"Product_quantity\"] >= 80:\n",
    "        return \"acceptable_quantity\"\n",
    "    elif 50 <= row[\"Product_quantity\"] < 80:\n",
    "        return \"low_quantity\"\n",
    "    else:\n",
    "        return \"very low_quantity\"\n",
    "\n",
    "# Apply the classification functions and create corresponding columns\n",
    "data[\"Price_comparison\"] = data.apply(classify_price, axis=1)\n",
    "data[\"Quality_comparison\"] = data.apply(classify_quality, axis=1)\n",
    "data[\"Quantity_comparison\"] = data.apply(classify_quantity, axis=1)\n",
    "\n",
    "\n",
    "# Define weights for quality, price, and quantity\n",
    "weight_quality = 0.4\n",
    "weight_price = 0.3\n",
    "weight_quantity = 0.3\n",
    "\n",
    "# Normalize features\n",
    "min_quality = data[\"Product_quality\"].min()\n",
    "max_quality = data[\"Product_quality\"].max()\n",
    "min_price = data[\"Product_price\"].min()\n",
    "max_price = data[\"Product_price\"].max()\n",
    "min_quantity = data[\"Product_quantity\"].min()\n",
    "max_quantity = data[\"Product_quantity\"].max()\n",
    "\n",
    "data[\"Normalized_quality\"] = (data[\"Product_quality\"] - min_quality) / (max_quality - min_quality)\n",
    "data[\"Normalized_price\"] = 1-((data[\"Product_price\"] - min_price) / (max_price - min_price))\n",
    "data[\"Normalized_quantity\"] = (data[\"Product_quantity\"] - min_quantity) / (max_quantity - min_quantity)\n",
    "\n",
    "# Define a scoring function\n",
    "def calculate_score(row):\n",
    "    score = (weight_quality * row[\"Normalized_quality\"]) + (weight_price * row[\"Normalized_price\"]) + (weight_quantity * row[\"Normalized_quantity\"])\n",
    "    return score\n",
    "\n",
    "# Apply the scoring function and create the \"score\" column\n",
    "data[\"score\"] = data.apply(calculate_score, axis=1)\n",
    "\n",
    "\n",
    "# Define a function to calculate the fraud score\n",
    "def calculate_fraud_score(row):\n",
    "    price_quality_score = (weight_quality * row[\"Normalized_quality\"]) + (weight_price * row[\"Normalized_price\"]) + (weight_quantity * row[\"Normalized_quantity\"])\n",
    "    \n",
    "    if price_quality_score > 0.6:\n",
    "        return \"high_fraud_score\"  # High fraud score for very cheap prices with good quality\n",
    "    elif price_quality_score < 0.2:\n",
    "        return \"high_fraud_score\"  # High fraud score for very high prices with poor quality\n",
    "    else:\n",
    "        return \"low_fraud_score\"  # Low fraud score for other cases\n",
    "\n",
    "# Apply the fraud scoring function and create the \"fraud_score\" column\n",
    "data[\"fraud_score\"] = data.apply(calculate_fraud_score, axis=1)\n",
    "\n",
    "# Create a function to calculate AI_scoring\n",
    "def calculate_ai_scoring(row):\n",
    "    if row[\"score\"] > 0.5 and row[\"fraud_score\"] == \"high_fraud_score\":\n",
    "        return row[\"score\"] / 2\n",
    "    else:\n",
    "        return row[\"score\"]\n",
    "\n",
    "# Apply the function to create the AI_scoring column\n",
    "data[\"AI_scoring\"] = data.apply(calculate_ai_scoring, axis=1)\n",
    "\n",
    "# Print the first few rows of the dataset with the score\n",
    "print(data.head(20))\n",
    "data.to_csv(\"score_evaluation_data.csv\")"
   ]
  },
  {
   "cell_type": "code",
   "execution_count": 154,
   "metadata": {},
   "outputs": [
    {
     "data": {
      "text/plain": [
       "(50.0002768337869,\n",
       " 99.99960211514829,\n",
       " 500.0218274525246,\n",
       " 2499.96838689967,\n",
       " 1,\n",
       " 100)"
      ]
     },
     "execution_count": 154,
     "metadata": {},
     "output_type": "execute_result"
    }
   ],
   "source": [
    "min_quality,max_quality,min_price,max_price,min_quantity,max_quantity"
   ]
  },
  {
   "cell_type": "code",
   "execution_count": 155,
   "metadata": {},
   "outputs": [
    {
     "name": "stdout",
     "output_type": "stream",
     "text": [
      "       Product_quality  Product_quantity  Product_price  Desired_quality  \\\n",
      "0            68.727006                98     649.273994               60   \n",
      "1            97.535715               100    1944.739079               60   \n",
      "9            85.403629               100     825.368293               60   \n",
      "11           98.495493                49    1930.217659               60   \n",
      "12           91.622132               100    2454.074957               60   \n",
      "...                ...               ...            ...              ...   \n",
      "99993        70.672029               100    1552.453187               60   \n",
      "99995        89.615242               100     632.327673               60   \n",
      "99996        88.962645                47     577.705259               60   \n",
      "99997        83.722670                65     531.773235               60   \n",
      "99998        74.972362               100     636.389272               60   \n",
      "\n",
      "       Baseline_product_price  Price_comparison Quality_comparison  \\\n",
      "0                        1500    very_low_price       high_quality   \n",
      "1                        1500        high_price  very_high_quality   \n",
      "9                        1500         low_price       high_quality   \n",
      "11                       1500        high_price  very_high_quality   \n",
      "12                       1500   very_high_price  very_high_quality   \n",
      "...                       ...               ...                ...   \n",
      "99993                    1500  acceptable_price       high_quality   \n",
      "99995                    1500    very_low_price       high_quality   \n",
      "99996                    1500    very_low_price       high_quality   \n",
      "99997                    1500    very_low_price       high_quality   \n",
      "99998                    1500    very_low_price       high_quality   \n",
      "\n",
      "       Quantity_comparison  Normalized_quality  Normalized_price  \\\n",
      "0      acceptable_quantity            0.374540          0.925372   \n",
      "1      acceptable_quantity            0.950722          0.277622   \n",
      "9      acceptable_quantity            0.708077          0.837322   \n",
      "11       very low_quantity            0.969917          0.284883   \n",
      "12     acceptable_quantity            0.832448          0.022947   \n",
      "...                    ...                 ...               ...   \n",
      "99993  acceptable_quantity            0.413441          0.473770   \n",
      "99995  acceptable_quantity            0.792310          0.933845   \n",
      "99996    very low_quantity            0.779258          0.961157   \n",
      "99997         low_quantity            0.674457          0.984124   \n",
      "99998  acceptable_quantity            0.499448          0.931814   \n",
      "\n",
      "       Normalized_quantity     score       fraud_score  AI_scoring  \n",
      "0                 0.979798  0.721367  high_fraud_score    0.360683  \n",
      "1                 1.000000  0.763575  high_fraud_score    0.381788  \n",
      "9                 1.000000  0.834427  high_fraud_score    0.417214  \n",
      "11                0.484848  0.618886  high_fraud_score    0.309443  \n",
      "12                1.000000  0.639864  high_fraud_score    0.319932  \n",
      "...                    ...       ...               ...         ...  \n",
      "99993             1.000000  0.607507  high_fraud_score    0.303754  \n",
      "99995             1.000000  0.897078  high_fraud_score    0.448539  \n",
      "99996             0.464646  0.739444  high_fraud_score    0.369722  \n",
      "99997             0.646465  0.758959  high_fraud_score    0.379480  \n",
      "99998             1.000000  0.779324  high_fraud_score    0.389662  \n",
      "\n",
      "[48692 rows x 14 columns]\n"
     ]
    }
   ],
   "source": [
    "high_score_high_fraud = data[(data[\"score\"] > 0.5) & (data[\"fraud_score\"] == \"high_fraud_score\")]\n",
    "\n",
    "# Print the filtered DataFrame\n",
    "print(high_score_high_fraud)"
   ]
  },
  {
   "cell_type": "code",
   "execution_count": 156,
   "metadata": {},
   "outputs": [
    {
     "name": "stdout",
     "output_type": "stream",
     "text": [
      "Index(['Product_quality', 'Product_quantity', 'Product_price',\n",
      "       'Desired_quality', 'Baseline_product_price', 'Price_comparison',\n",
      "       'Quality_comparison', 'Quantity_comparison', 'Normalized_quality',\n",
      "       'Normalized_price', 'Normalized_quantity', 'score', 'fraud_score',\n",
      "       'AI_scoring'],\n",
      "      dtype='object')\n"
     ]
    }
   ],
   "source": [
    "print(data.columns)"
   ]
  },
  {
   "cell_type": "code",
   "execution_count": 157,
   "metadata": {},
   "outputs": [
    {
     "name": "stdout",
     "output_type": "stream",
     "text": [
      "MSE for Price: 5e-05\n",
      "R-squared for Quality: 1.0\n"
     ]
    }
   ],
   "source": [
    "from sklearn.model_selection import train_test_split\n",
    "from sklearn.ensemble import RandomForestRegressor, RandomForestClassifier\n",
    "from sklearn.metrics import mean_squared_error, r2_score\n",
    "from sklearn.preprocessing import LabelEncoder\n",
    "\n",
    "# Separate data into features and targets\n",
    "X = data[['Product_quality', 'Product_quantity', 'Product_price', 'Desired_quality', 'Baseline_product_price']]\n",
    "y_price = LabelEncoder().fit_transform(data['Price_comparison'])  # Example encoding for classification\n",
    "y_quality = LabelEncoder().fit_transform(data['Quality_comparison'])\n",
    "y_quantity = LabelEncoder().fit_transform(data['Quantity_comparison'])\n",
    "y_fraude_score = LabelEncoder().fit_transform(data['fraud_score'])\n",
    "y_ai_scoring = data['AI_scoring']\n",
    "\n",
    "# Split data into training and testing sets\n",
    "X_train, X_test, y_price_train, y_price_test = train_test_split(X, y_price, test_size=0.2, random_state=42)\n",
    "X_train, X_test, y_quality_train, y_quality_test = train_test_split(X, y_quality, test_size=0.2, random_state=42)\n",
    "X_train, X_test, y_quantity_train, y_quantity_test = train_test_split(X, y_quantity, test_size=0.2, random_state=42)\n",
    "X_train, X_test, y_fraude_score_train, y_fraude_score_test = train_test_split(X, y_fraude_score, test_size=0.2, random_state=42)\n",
    "X_train, X_test, y_ai_scoring_train, y_ai_scoring_test = train_test_split(X, y_ai_scoring, test_size=0.2, random_state=42)\n",
    "\n",
    "# Create models for each prediction task (you can choose different models)\n",
    "model_price = RandomForestClassifier(n_estimators=100, random_state=42)\n",
    "model_quality = RandomForestClassifier(n_estimators=100, random_state=42)\n",
    "model_quantity = RandomForestClassifier(n_estimators=100, random_state=42)\n",
    "model_fraude_score = RandomForestClassifier(n_estimators=100, random_state=42)\n",
    "model_ai_scoring = RandomForestRegressor(n_estimators=100, random_state=42)\n",
    "\n",
    "# Train the models\n",
    "model_price.fit(X_train, y_price_train)\n",
    "model_quality.fit(X_train, y_quality_train)\n",
    "model_quantity.fit(X_train, y_quantity_train)\n",
    "model_fraude_score.fit(X_train, y_fraude_score_train)\n",
    "model_ai_scoring.fit(X_train, y_ai_scoring_train)\n",
    "\n",
    "# Make predictions\n",
    "y_price_pred = model_price.predict(X_test)\n",
    "y_quality_pred = model_quality.predict(X_test)\n",
    "y_quantity_pred = model_quantity.predict(X_test)\n",
    "y_fraude_score_pred = model_fraude_score.predict(X_test)\n",
    "y_ai_scoring_pred = model_ai_scoring.predict(X_test)\n",
    "\n",
    "# Evaluate models (use appropriate metrics for each task)\n",
    "mse_price = mean_squared_error(y_price_test, y_price_pred)\n",
    "r2_quality = r2_score(y_quality_test, y_quality_pred)\n",
    "# Add other evaluation metrics for quantity and AI scoring\n",
    "\n",
    "print(f\"MSE for Price: {mse_price}\")\n",
    "print(f\"R-squared for Quality: {r2_quality}\")\n",
    "# Add other evaluation metrics"
   ]
  },
  {
   "cell_type": "code",
   "execution_count": 158,
   "metadata": {},
   "outputs": [
    {
     "name": "stdout",
     "output_type": "stream",
     "text": [
      "R-squared for Quality: 0.9755968839661137\n"
     ]
    }
   ],
   "source": [
    "r2_fraude_score = r2_score(y_fraude_score_test, y_fraude_score_pred)\n",
    "print(f\"R-squared for Quality: {r2_fraude_score}\")"
   ]
  },
  {
   "cell_type": "markdown",
   "metadata": {},
   "source": [
    "# Saving model"
   ]
  },
  {
   "cell_type": "code",
   "execution_count": 90,
   "metadata": {},
   "outputs": [],
   "source": [
    "import joblib"
   ]
  },
  {
   "cell_type": "code",
   "execution_count": 159,
   "metadata": {},
   "outputs": [
    {
     "data": {
      "text/plain": [
       "['models/model_ai_scoring.pkl']"
      ]
     },
     "execution_count": 159,
     "metadata": {},
     "output_type": "execute_result"
    }
   ],
   "source": [
    "# Save the trained models to files\n",
    "joblib.dump(model_price, 'models/model_price.pkl')\n",
    "joblib.dump(model_quality, 'models/model_quality.pkl')\n",
    "joblib.dump(model_quantity, 'models/model_quantity.pkl')\n",
    "joblib.dump(model_fraude_score, 'models/model_fraude_score.pkl')\n",
    "joblib.dump(model_ai_scoring, 'models/model_ai_scoring.pkl')"
   ]
  },
  {
   "cell_type": "code",
   "execution_count": 160,
   "metadata": {},
   "outputs": [],
   "source": [
    "# Load the trained models from files\n",
    "loaded_model_price = joblib.load('models/model_price.pkl')\n",
    "loaded_model_quality = joblib.load('models/model_quality.pkl')\n",
    "loaded_model_quantity = joblib.load('models/model_quantity.pkl')\n",
    "loaded_model_fraude_score = joblib.load('models/model_fraude_score.pkl')\n",
    "loaded_model_ai_scoring = joblib.load('models/model_ai_scoring.pkl')"
   ]
  },
  {
   "cell_type": "code",
   "execution_count": 174,
   "metadata": {},
   "outputs": [
    {
     "name": "stdout",
     "output_type": "stream",
     "text": [
      "Price Predictions: [4]\n",
      "Quality Predictions: [2]\n",
      "Quantity Predictions: [2]\n",
      "fraude_score Predictions: [1]\n",
      "AI Scoring Predictions: [0.32058542]\n"
     ]
    }
   ],
   "source": [
    "data_1 = pd.DataFrame({\n",
    "    \"Product_quality\": [0],\n",
    "    \"Product_quantity\": [0],\n",
    "    \"Product_price\": [500],\n",
    "    \"Desired_quality\": [60],\n",
    "    \"Baseline_product_price\": [1500]\n",
    "})\n",
    "price_predictions = loaded_model_price.predict(data_1)\n",
    "quality_predictions = loaded_model_quality.predict(data_1)\n",
    "quantity_predictions = loaded_model_quantity.predict(data_1)\n",
    "fraude_score_predictions = loaded_model_fraude_score.predict(data_1)\n",
    "ai_scoring_predictions = loaded_model_ai_scoring.predict(data_1)\n",
    "print(\"Price Predictions:\", price_predictions)\n",
    "print(\"Quality Predictions:\", quality_predictions)\n",
    "print(\"Quantity Predictions:\", quantity_predictions)\n",
    "print(\"fraude_score Predictions:\", fraude_score_predictions)\n",
    "print(\"AI Scoring Predictions:\", ai_scoring_predictions)"
   ]
  }
 ],
 "metadata": {
  "kernelspec": {
   "display_name": "Python 3",
   "language": "python",
   "name": "python3"
  },
  "language_info": {
   "codemirror_mode": {
    "name": "ipython",
    "version": 3
   },
   "file_extension": ".py",
   "mimetype": "text/x-python",
   "name": "python",
   "nbconvert_exporter": "python",
   "pygments_lexer": "ipython3",
   "version": "3.11.1"
  },
  "orig_nbformat": 4
 },
 "nbformat": 4,
 "nbformat_minor": 2
}
